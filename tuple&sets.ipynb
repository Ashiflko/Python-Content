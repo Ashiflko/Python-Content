{
 "cells": [
  {
   "cell_type": "code",
   "execution_count": 2,
   "metadata": {},
   "outputs": [
    {
     "data": {
      "text/plain": [
       "tuple"
      ]
     },
     "execution_count": 2,
     "metadata": {},
     "output_type": "execute_result"
    }
   ],
   "source": [
    "#tuple()\n",
    "t1=(1,2,3,4)\n",
    "type(t1)"
   ]
  },
  {
   "cell_type": "code",
   "execution_count": 10,
   "metadata": {},
   "outputs": [],
   "source": [
    "# SET// mutable, can not store list in Set\n",
    "\n",
    "\n",
    "\n",
    "\n"
   ]
  },
  {
   "cell_type": "code",
   "execution_count": 11,
   "metadata": {},
   "outputs": [
    {
     "name": "stdout",
     "output_type": "stream",
     "text": [
      "peach\n",
      "banana\n"
     ]
    }
   ],
   "source": [
    "#HOME WORK\n",
    "# WAP to find unique words in given sentance\n",
    "text = \"mango mango peach apple apple banana\"\n",
    "words = text.split()# convert in list\n",
    "#set(sentance.split())// this is used in data science \n",
    "\n",
    "for word in words:\n",
    "    if text.count(word) == 1:\n",
    "        print(word)\n",
    "    else:\n",
    "        pass"
   ]
  },
  {
   "cell_type": "code",
   "execution_count": 25,
   "metadata": {},
   "outputs": [
    {
     "data": {
      "text/plain": [
       "{3, 4}"
      ]
     },
     "execution_count": 25,
     "metadata": {},
     "output_type": "execute_result"
    }
   ],
   "source": [
    "a={1,2,3,4}\n",
    "b={3,4,5}\n",
    "a.intersection(b)\n",
    "a.intersection_update(b)\n",
    "a\n"
   ]
  },
  {
   "cell_type": "code",
   "execution_count": 22,
   "metadata": {},
   "outputs": [
    {
     "name": "stdout",
     "output_type": "stream",
     "text": [
      "mohammad\n",
      "Numbers vowels in given string: 1\n"
     ]
    }
   ],
   "source": [
    "sentance=input(\"enter the  sentance name:\")\n",
    "string=sentance.lower()\n",
    "print(string)\n",
    "count= 0\n",
    "list1=['a','e','i','o','u']\n",
    "for char in string:\n",
    "    if char in list1:\n",
    "        counts = count +1\n",
    "print(\"Numbers vowels in given string:\",counts)\n"
   ]
  },
  {
   "cell_type": "code",
   "execution_count": 28,
   "metadata": {},
   "outputs": [
    {
     "name": "stdout",
     "output_type": "stream",
     "text": [
      "Prime numbers between 100 and 200 are:\n",
      "[101]\n",
      "[101, 103]\n",
      "[101, 103, 107]\n",
      "[101, 103, 107, 109]\n",
      "[101, 103, 107, 109, 113]\n",
      "[101, 103, 107, 109, 113, 127]\n",
      "[101, 103, 107, 109, 113, 127, 131]\n",
      "[101, 103, 107, 109, 113, 127, 131, 137]\n",
      "[101, 103, 107, 109, 113, 127, 131, 137, 139]\n",
      "[101, 103, 107, 109, 113, 127, 131, 137, 139, 149]\n",
      "[101, 103, 107, 109, 113, 127, 131, 137, 139, 149, 151]\n",
      "[101, 103, 107, 109, 113, 127, 131, 137, 139, 149, 151, 157]\n",
      "[101, 103, 107, 109, 113, 127, 131, 137, 139, 149, 151, 157, 163]\n",
      "[101, 103, 107, 109, 113, 127, 131, 137, 139, 149, 151, 157, 163, 167]\n",
      "[101, 103, 107, 109, 113, 127, 131, 137, 139, 149, 151, 157, 163, 167, 173]\n",
      "[101, 103, 107, 109, 113, 127, 131, 137, 139, 149, 151, 157, 163, 167, 173, 179]\n",
      "[101, 103, 107, 109, 113, 127, 131, 137, 139, 149, 151, 157, 163, 167, 173, 179, 181]\n",
      "[101, 103, 107, 109, 113, 127, 131, 137, 139, 149, 151, 157, 163, 167, 173, 179, 181, 191]\n",
      "[101, 103, 107, 109, 113, 127, 131, 137, 139, 149, 151, 157, 163, 167, 173, 179, 181, 191, 193]\n",
      "[101, 103, 107, 109, 113, 127, 131, 137, 139, 149, 151, 157, 163, 167, 173, 179, 181, 191, 193, 197]\n",
      "[101, 103, 107, 109, 113, 127, 131, 137, 139, 149, 151, 157, 163, 167, 173, 179, 181, 191, 193, 197, 199]\n"
     ]
    }
   ],
   "source": [
    "# Python program to display all the prime numbers 100 t0 200\n",
    "list_item=[]\n",
    "lower = 100\n",
    "upper = 200\n",
    "\n",
    "print(\"Prime numbers between\", lower, \"and\", upper, \"are:\")\n",
    "\n",
    "for num in range(lower, upper ):\n",
    "   if num > 1:\n",
    "       for i in range(2, num):\n",
    "           if (num % i) == 0:\n",
    "\n",
    "               break\n",
    "            \n",
    "       else:\n",
    "           list_item.append(num)\n",
    "           print(list_item)\n",
    "           "
   ]
  },
  {
   "cell_type": "code",
   "execution_count": null,
   "metadata": {},
   "outputs": [],
   "source": [
    "lower=100\n",
    "upper=200\n"
   ]
  }
 ],
 "metadata": {
  "interpreter": {
   "hash": "5334c72a8ba9d1e109c86958d2c23a84ecbfd50c07315bc902cebb9991757b75"
  },
  "kernelspec": {
   "display_name": "Python 3.9.7 64-bit",
   "name": "python3"
  },
  "language_info": {
   "codemirror_mode": {
    "name": "ipython",
    "version": 3
   },
   "file_extension": ".py",
   "mimetype": "text/x-python",
   "name": "python",
   "nbconvert_exporter": "python",
   "pygments_lexer": "ipython3",
   "version": "3.9.7"
  },
  "orig_nbformat": 4
 },
 "nbformat": 4,
 "nbformat_minor": 2
}
