{
 "cells": [
  {
   "cell_type": "code",
   "execution_count": null,
   "metadata": {},
   "outputs": [],
   "source": []
  },
  {
   "cell_type": "code",
   "execution_count": null,
   "metadata": {},
   "outputs": [],
   "source": []
  },
  {
   "cell_type": "code",
   "execution_count": 6,
   "metadata": {},
   "outputs": [
    {
     "name": "stdout",
     "output_type": "stream",
     "text": [
      "age : 10\n"
     ]
    }
   ],
   "source": [
    "name='shama siddiqui'\n",
    "age=input('enter the age')\n",
    "print('age :',age)"
   ]
  },
  {
   "cell_type": "code",
   "execution_count": 3,
   "metadata": {},
   "outputs": [
    {
     "name": "stdout",
     "output_type": "stream",
     "text": [
      "mohd\n"
     ]
    }
   ],
   "source": [
    "name=\"mohd\"\n",
    "print(name)"
   ]
  },
  {
   "cell_type": "code",
   "execution_count": 3,
   "metadata": {},
   "outputs": [
    {
     "name": "stdout",
     "output_type": "stream",
     "text": [
      "10.0\n",
      "(10+0j)\n"
     ]
    }
   ],
   "source": [
    "x=10\n",
    "print(float(x))\n",
    "print(complex(x))"
   ]
  },
  {
   "cell_type": "code",
   "execution_count": 13,
   "metadata": {},
   "outputs": [
    {
     "name": "stdout",
     "output_type": "stream",
     "text": [
      "3\n"
     ]
    }
   ],
   "source": [
    "x=23\n",
    "y=6\n",
    "x/y\n",
    "print(x//y)"
   ]
  },
  {
   "cell_type": "code",
   "execution_count": 16,
   "metadata": {},
   "outputs": [
    {
     "data": {
      "text/plain": [
       "3.890833333333333"
      ]
     },
     "execution_count": 16,
     "metadata": {},
     "output_type": "execute_result"
    }
   ],
   "source": [
    "23.345/6\n",
    "#23.345//6"
   ]
  },
  {
   "cell_type": "code",
   "execution_count": 18,
   "metadata": {},
   "outputs": [
    {
     "data": {
      "text/plain": [
       "2"
      ]
     },
     "execution_count": 18,
     "metadata": {},
     "output_type": "execute_result"
    }
   ],
   "source": [
    "20%6 # only remainder value will be count (%)"
   ]
  },
  {
   "cell_type": "code",
   "execution_count": 25,
   "metadata": {},
   "outputs": [
    {
     "name": "stdout",
     "output_type": "stream",
     "text": [
      "x = 5\n",
      "y = 3\n",
      "\n",
      "\n",
      "Addition: x + y = 8\n",
      "Subtraction: x + y = 2\n",
      "Multiplication: x * y = 15\n",
      "Division: x / y = 1.6666666666666667\n",
      "Division: x / y = 1\n",
      "Modulus: x % y = 2\n"
     ]
    }
   ],
   "source": [
    "x = 5\n",
    "y = 3\n",
    "print(\"x = 5\")\n",
    "print(\"y = 3\")\n",
    "print('\\n')\n",
    "#Addition\n",
    "addition = x + y\n",
    "print(\"Addition: x + y = \" + str(addition)) \n",
    "\n",
    "#Subtraction\n",
    "subtraction = x - y\n",
    "print(\"Subtraction: x + y = \" + str(subtraction)) \n",
    "\n",
    "  \n",
    "#Multiplication\n",
    "multiplication = x * y\n",
    "print(\"Multiplication: x * y = \" + str(multiplication)) \n",
    "\n",
    "#Division\n",
    "division1 = x / y\n",
    "print(\"Division: x / y = \" + str(division1)) \n",
    "   \n",
    "#Division (round down/ floor)\n",
    "division2 = x // y  \n",
    "print(\"Division: x / y = \" + str(division2)) \n",
    "\n",
    "#Modulus (remainder)\n",
    "modulus = x % y\n",
    "print(\"Modulus: x % y = \" + str(modulus))\n",
    "\n",
    "#Power \n",
    "power = x ** y"
   ]
  },
  {
   "cell_type": "code",
   "execution_count": 28,
   "metadata": {},
   "outputs": [
    {
     "data": {
      "text/plain": [
       "10.0"
      ]
     },
     "execution_count": 28,
     "metadata": {},
     "output_type": "execute_result"
    }
   ],
   "source": [
    "((27 * 2) + 46) ** 0.5"
   ]
  },
  {
   "cell_type": "code",
   "execution_count": 46,
   "metadata": {},
   "outputs": [],
   "source": [
    "a=3\n",
    "b=2\n"
   ]
  },
  {
   "cell_type": "code",
   "execution_count": 47,
   "metadata": {},
   "outputs": [
    {
     "data": {
      "text/plain": [
       "5"
      ]
     },
     "execution_count": 47,
     "metadata": {},
     "output_type": "execute_result"
    }
   ],
   "source": [
    "a+=b\n",
    "a\n"
   ]
  },
  {
   "cell_type": "code",
   "execution_count": 48,
   "metadata": {},
   "outputs": [
    {
     "data": {
      "text/plain": [
       "3"
      ]
     },
     "execution_count": 48,
     "metadata": {},
     "output_type": "execute_result"
    }
   ],
   "source": [
    "a-=b\n",
    "a"
   ]
  },
  {
   "cell_type": "code",
   "execution_count": 53,
   "metadata": {},
   "outputs": [
    {
     "name": "stdout",
     "output_type": "stream",
     "text": [
      "2\n"
     ]
    }
   ],
   "source": [
    "a = 11\n",
    "b = 5\n",
    "  \n",
    "# a = a // b\n",
    "a //= b\n",
    "  \n",
    "# Output\n",
    "print(a)"
   ]
  },
  {
   "cell_type": "code",
   "execution_count": 54,
   "metadata": {},
   "outputs": [
    {
     "name": "stdout",
     "output_type": "stream",
     "text": [
      "243\n"
     ]
    }
   ],
   "source": [
    "a = 3\n",
    "b = 5\n",
    "  \n",
    "# a = a ** b\n",
    "a **= b\n",
    "  \n",
    "# Output\n",
    "print(a)"
   ]
  },
  {
   "cell_type": "code",
   "execution_count": 60,
   "metadata": {},
   "outputs": [
    {
     "data": {
      "text/plain": [
       "10"
      ]
     },
     "execution_count": 60,
     "metadata": {},
     "output_type": "execute_result"
    }
   ],
   "source": [
    "friend = int(input(\"Enter your friend name : \"))\n",
    "friend"
   ]
  },
  {
   "cell_type": "code",
   "execution_count": 67,
   "metadata": {},
   "outputs": [
    {
     "data": {
      "text/plain": [
       "'1020'"
      ]
     },
     "execution_count": 67,
     "metadata": {},
     "output_type": "execute_result"
    }
   ],
   "source": [
    "num1 = input('enter number 1 :')\n",
    "num2 = input('enter number 2 :')\n",
    "# concanate\n",
    "a=num1+num2\n",
    "a\n"
   ]
  },
  {
   "cell_type": "code",
   "execution_count": 68,
   "metadata": {},
   "outputs": [
    {
     "data": {
      "text/plain": [
       "30"
      ]
     },
     "execution_count": 68,
     "metadata": {},
     "output_type": "execute_result"
    }
   ],
   "source": [
    "# will be add\n",
    "int(num1) + int(num2)"
   ]
  },
  {
   "cell_type": "code",
   "execution_count": 69,
   "metadata": {},
   "outputs": [
    {
     "name": "stdout",
     "output_type": "stream",
     "text": [
      "60\n"
     ]
    }
   ],
   "source": [
    "num1 = int(input('enter number 1 :'))\n",
    "num2 = int(input('enter number 2 :'))\n",
    "\n",
    "print(num2+num1)"
   ]
  },
  {
   "cell_type": "code",
   "execution_count": null,
   "metadata": {},
   "outputs": [],
   "source": []
  }
 ],
 "metadata": {
  "interpreter": {
   "hash": "5334c72a8ba9d1e109c86958d2c23a84ecbfd50c07315bc902cebb9991757b75"
  },
  "kernelspec": {
   "display_name": "Python 3.9.7 64-bit",
   "name": "python3"
  },
  "language_info": {
   "codemirror_mode": {
    "name": "ipython",
    "version": 3
   },
   "file_extension": ".py",
   "mimetype": "text/x-python",
   "name": "python",
   "nbconvert_exporter": "python",
   "pygments_lexer": "ipython3",
   "version": "3.9.7"
  },
  "orig_nbformat": 4
 },
 "nbformat": 4,
 "nbformat_minor": 2
}
