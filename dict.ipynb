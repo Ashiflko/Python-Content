{
 "cells": [
  {
   "cell_type": "code",
   "execution_count": 2,
   "metadata": {},
   "outputs": [
    {
     "data": {
      "text/plain": [
       "{'is', 'the', 'there', 'they', 'was', 'were'}"
      ]
     },
     "execution_count": 2,
     "metadata": {},
     "output_type": "execute_result"
    }
   ],
   "source": [
    "\n",
    "sentence = \"the is was were they the is was were there\"\n",
    "set  (sentence.split())"
   ]
  },
  {
   "cell_type": "code",
   "execution_count": 9,
   "metadata": {},
   "outputs": [
    {
     "data": {
      "text/plain": [
       "{'o'}"
      ]
     },
     "execution_count": 9,
     "metadata": {},
     "output_type": "execute_result"
    }
   ],
   "source": [
    "name1 = \"Leon S Kennedy\"\n",
    "name2 = \"Ada Wong\"\n",
    "\n",
    "vowels = set('aeiou')\n",
    "name1_vowels = vowels.intersection(name1)\n",
    "name2_vowels = vowels.intersection(name2)\n",
    "name1_vowels\n",
    "name2_vowels\n",
    "name2_vowels.intersection(name1_vowels)\n"
   ]
  },
  {
   "cell_type": "code",
   "execution_count": 24,
   "metadata": {},
   "outputs": [
    {
     "data": {
      "text/plain": [
       "3"
      ]
     },
     "execution_count": 24,
     "metadata": {},
     "output_type": "execute_result"
    }
   ],
   "source": [
    "name={'mohammad','ada','rahul' }\n",
    "type(name)\n",
    "len(name)"
   ]
  },
  {
   "cell_type": "code",
   "execution_count": 29,
   "metadata": {},
   "outputs": [
    {
     "name": "stdout",
     "output_type": "stream",
     "text": [
      "rahul\n",
      "ada\n",
      "mohammad\n"
     ]
    },
    {
     "data": {
      "text/plain": [
       "8"
      ]
     },
     "execution_count": 29,
     "metadata": {},
     "output_type": "execute_result"
    }
   ],
   "source": [
    "name_length={}\n",
    "for i in name:\n",
    "    print(i)\n",
    "len(i)\n",
    "name_length=len(i)\n",
    "name_length\n",
    "    "
   ]
  },
  {
   "cell_type": "code",
   "execution_count": 33,
   "metadata": {},
   "outputs": [
    {
     "data": {
      "text/plain": [
       "{'keys': 'Value'}"
      ]
     },
     "execution_count": 33,
     "metadata": {},
     "output_type": "execute_result"
    }
   ],
   "source": [
    "tele_dir = {}\n",
    "name={'asif':'9984118111','mohd':'98383030','khan':'9838302075','sidd':'123456789','singh':'0909090909'}\n",
    "tele_dir['keys']= 'Value'\n",
    "tele_dir\n"
   ]
  },
  {
   "cell_type": "code",
   "execution_count": 32,
   "metadata": {},
   "outputs": [
    {
     "name": "stdout",
     "output_type": "stream",
     "text": [
      "{'mohd': '100', 'asif': '50', 'sidd': '40', ('mohd', 'asif'): (70, 100, 50)}\n"
     ]
    }
   ],
   "source": [
    "my_dict  =  {\n",
    "   'mohd':'100',\n",
    "   'asif':'50',\n",
    "   'sidd':'40'\n",
    "}\n",
    "my_dict['mohd','asif']  = 70,100,50\n",
    "print(my_dict)"
   ]
  }
 ],
 "metadata": {
  "interpreter": {
   "hash": "5334c72a8ba9d1e109c86958d2c23a84ecbfd50c07315bc902cebb9991757b75"
  },
  "kernelspec": {
   "display_name": "Python 3.9.7 64-bit",
   "name": "python3"
  },
  "language_info": {
   "codemirror_mode": {
    "name": "ipython",
    "version": 3
   },
   "file_extension": ".py",
   "mimetype": "text/x-python",
   "name": "python",
   "nbconvert_exporter": "python",
   "pygments_lexer": "ipython3",
   "version": "3.9.7"
  },
  "orig_nbformat": 4
 },
 "nbformat": 4,
 "nbformat_minor": 2
}
