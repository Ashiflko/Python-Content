{
 "cells": [
  {
   "cell_type": "code",
   "execution_count": 5,
   "source": [
    "string=input(\"Enter string:\")\r\n",
    "vowels=0\r\n",
    "for i in string:\r\n",
    "      if(i=='a' or i=='e' or i=='i' or i=='o' or i=='u' or i=='A' or i=='E' or i=='I' or i=='O' or i=='U'):\r\n",
    "            vowels=vowels+1\r\n",
    "print(\"Number of vowels are:\")\r\n",
    "print(vowels)"
   ],
   "outputs": [
    {
     "output_type": "stream",
     "name": "stdout",
     "text": [
      "Number of vowels are:\n",
      "2\n"
     ]
    }
   ],
   "metadata": {}
  },
  {
   "cell_type": "code",
   "execution_count": 1,
   "source": [
    "num = 65\r\n",
    " \r\n",
    "if num > 1:\r\n",
    " \r\n",
    "    for i in range(2, 65):\r\n",
    "        if (num % i) == 0:\r\n",
    "            print(num, \"is not a prime number\")\r\n",
    "            break\r\n",
    "    else:\r\n",
    "        print(num, \"is a prime number\")\r\n",
    " \r\n",
    "else:\r\n",
    "    print(num, \"is not a prime number\")"
   ],
   "outputs": [
    {
     "output_type": "stream",
     "name": "stdout",
     "text": [
      "65 is not a prime number\n"
     ]
    }
   ],
   "metadata": {}
  },
  {
   "cell_type": "code",
   "execution_count": null,
   "source": [
    "fori in range(20):\r\n",
    "print((i*'#'))"
   ],
   "outputs": [],
   "metadata": {}
  },
  {
   "cell_type": "code",
   "execution_count": 3,
   "source": [
    "# Python program to display all the prime numbers within an interval\r\n",
    "\r\n",
    "lower = 100\r\n",
    "upper = 500\r\n",
    "\r\n",
    "print(\"Prime numbers between\", lower, \"and\", upper, \"are:\")\r\n",
    "\r\n",
    "for num in range(lower, upper ):\r\n",
    "   # all prime numbers are greater than 1\r\n",
    "   if num > 1:\r\n",
    "       for i in range(2, num):\r\n",
    "           if (num % i) == 0:\r\n",
    "               break\r\n",
    "       else:\r\n",
    "           print(num)"
   ],
   "outputs": [
    {
     "output_type": "stream",
     "name": "stdout",
     "text": [
      "Prime numbers between 100 and 500 are:\n",
      "101\n",
      "103\n",
      "107\n",
      "109\n",
      "113\n",
      "127\n",
      "131\n",
      "137\n",
      "139\n",
      "149\n",
      "151\n",
      "157\n",
      "163\n",
      "167\n",
      "173\n",
      "179\n",
      "181\n",
      "191\n",
      "193\n",
      "197\n",
      "199\n",
      "211\n",
      "223\n",
      "227\n",
      "229\n",
      "233\n",
      "239\n",
      "241\n",
      "251\n",
      "257\n",
      "263\n",
      "269\n",
      "271\n",
      "277\n",
      "281\n",
      "283\n",
      "293\n",
      "307\n",
      "311\n",
      "313\n",
      "317\n",
      "331\n",
      "337\n",
      "347\n",
      "349\n",
      "353\n",
      "359\n",
      "367\n",
      "373\n",
      "379\n",
      "383\n",
      "389\n",
      "397\n",
      "401\n",
      "409\n",
      "419\n",
      "421\n",
      "431\n",
      "433\n",
      "439\n",
      "443\n",
      "449\n",
      "457\n",
      "461\n",
      "463\n",
      "467\n",
      "479\n",
      "487\n",
      "491\n",
      "499\n"
     ]
    }
   ],
   "metadata": {}
  }
 ],
 "metadata": {
  "orig_nbformat": 4,
  "language_info": {
   "name": "python",
   "version": "3.9.7",
   "mimetype": "text/x-python",
   "codemirror_mode": {
    "name": "ipython",
    "version": 3
   },
   "pygments_lexer": "ipython3",
   "nbconvert_exporter": "python",
   "file_extension": ".py"
  },
  "kernelspec": {
   "name": "python3",
   "display_name": "Python 3.9.7 64-bit"
  },
  "interpreter": {
   "hash": "5334c72a8ba9d1e109c86958d2c23a84ecbfd50c07315bc902cebb9991757b75"
  }
 },
 "nbformat": 4,
 "nbformat_minor": 2
}