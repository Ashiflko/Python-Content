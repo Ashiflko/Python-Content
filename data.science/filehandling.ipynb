{
 "cells": [
  {
   "cell_type": "code",
   "execution_count": 1,
   "metadata": {},
   "outputs": [],
   "source": [
    "with open(\"app.py\") as contents:\n",
    "    #print(contents.read())\n",
    "    code=contents.read()\n"
   ]
  },
  {
   "cell_type": "code",
   "execution_count": null,
   "metadata": {},
   "outputs": [
    {
     "data": {
      "text/plain": [
       "'import streamlit as st\\nimport pandas as pd\\nimport plotly as px\\nsidebar = st.sidebar\\n\\nsidebar.title(\"Sidebar Title Here\")\\nbtn1 = sidebar.button(\"Get Balloons\")\\n\\nif btn1:\\n    st.balloons()\\n\\nst.title(\"Streamlit App\")\\nname = st.text_input(\"Enter your name\")\\nbtn = st.button(\"Submit\")\\n\\nif btn:\\n    st.text(f\"You entered name {name}\")\\nst.image(\\'coin.jpg\\', use_column_width=True)\\n\\ndf = pd.read_csv(\\'Pokemon.csv\\')\\n\\nst.dataframe(df)\\nfig = px.bar(data_frame=df, x=\\'Name\\', y=\\'Speed\\', color=\\'Type 1\\')\\nst.plotly_chart(fig, use_container_width=True)'"
      ]
     },
     "execution_count": 15,
     "metadata": {},
     "output_type": "execute_result"
    }
   ],
   "source": [
    "code"
   ]
  },
  {
   "cell_type": "code",
   "execution_count": 16,
   "metadata": {},
   "outputs": [
    {
     "data": {
      "text/plain": [
       "3"
      ]
     },
     "execution_count": 16,
     "metadata": {},
     "output_type": "execute_result"
    }
   ],
   "source": [
    "code.count('import')"
   ]
  },
  {
   "cell_type": "code",
   "execution_count": 17,
   "metadata": {},
   "outputs": [
    {
     "data": {
      "text/plain": [
       "11"
      ]
     },
     "execution_count": 17,
     "metadata": {},
     "output_type": "execute_result"
    }
   ],
   "source": [
    "code.count('st')"
   ]
  },
  {
   "cell_type": "code",
   "execution_count": 20,
   "metadata": {},
   "outputs": [
    {
     "name": "stdout",
     "output_type": "stream",
     "text": [
      "<built-in method read of _io.TextIOWrapper object at 0x0000020691259A00>\n"
     ]
    }
   ],
   "source": [
    "file_contents=open('app.py')\n",
    "print(file_contents.read)\n",
    "file_contents.close()"
   ]
  },
  {
   "cell_type": "code",
   "execution_count": 3,
   "metadata": {},
   "outputs": [],
   "source": [
    "with open('new.txt','w') as newfile:\n",
    "    newfile.write(\"some content\")"
   ]
  },
  {
   "cell_type": "code",
   "execution_count": 4,
   "metadata": {},
   "outputs": [],
   "source": [
    "with open('new.txt','a') as newfile:\n",
    "    newfile.write(\"anothers content\")\n",
    "    "
   ]
  },
  {
   "cell_type": "code",
   "execution_count": 5,
   "metadata": {},
   "outputs": [],
   "source": [
    "with open('app.py','r') as mycode:\n",
    "    t=mycode.read()\n",
    "    with open('app_copy','w') as copier:\n",
    "        copier.write(t)"
   ]
  },
  {
   "cell_type": "code",
   "execution_count": 53,
   "metadata": {},
   "outputs": [],
   "source": [
    "import os"
   ]
  },
  {
   "cell_type": "code",
   "execution_count": 6,
   "metadata": {},
   "outputs": [
    {
     "data": {
      "text/plain": [
       "['app.py',\n",
       " 'app_copy',\n",
       " 'array_homework.ipynb',\n",
       " 'array_processing.ipynb',\n",
       " 'Canada.xlsx',\n",
       " 'cleaned_data.csv',\n",
       " 'coin.jpg',\n",
       " 'data.csv',\n",
       " 'datacleaning.ipynb',\n",
       " 'data_visualization.ipynb',\n",
       " 'demofile.txt',\n",
       " 'exeption_handling.ipynb',\n",
       " 'filehandling.ipynb',\n",
       " 'flipkart.ipynb',\n",
       " 'imdbscraber.ipynb',\n",
       " 'loading_data.ipynb',\n",
       " 'new.txt',\n",
       " 'plotly.ipynb',\n",
       " 'Pokemon.csv',\n",
       " 'webscraping.ipynb']"
      ]
     },
     "execution_count": 6,
     "metadata": {},
     "output_type": "execute_result"
    }
   ],
   "source": [
    "# working folders and file\n",
    "os.listdir()"
   ]
  },
  {
   "cell_type": "code",
   "execution_count": 7,
   "metadata": {},
   "outputs": [
    {
     "data": {
      "text/plain": [
       "'c:\\\\Users\\\\Mohd Asif\\\\Desktop\\\\pythondatascience\\\\data.science'"
      ]
     },
     "execution_count": 7,
     "metadata": {},
     "output_type": "execute_result"
    }
   ],
   "source": [
    "# current working directory\n",
    "os.getcwd()"
   ]
  },
  {
   "cell_type": "code",
   "execution_count": 8,
   "metadata": {},
   "outputs": [],
   "source": [
    "# make folder\n",
    "os.mkdir('myfolder')\n",
    "#os.rename('app_new.py','my_folder.py')"
   ]
  },
  {
   "cell_type": "code",
   "execution_count": 9,
   "metadata": {},
   "outputs": [
    {
     "name": "stdout",
     "output_type": "stream",
     "text": [
      "#class Laptop:\n",
      "\n",
      "   # ram = '8 gb'\n",
      "   # brand = 'Asus'\n",
      "   # hdd = '1 tb'\n",
      "   # resolution = '1080p'\n",
      "\n",
      "   # def playGame(self):\n",
      "      #  print('Laptop plays games')\n",
      "       \n",
      "    #def playVideo(self):\n",
      "      #  print('Laptop plays videos')\n",
      "\n",
      "\n",
      "#lappy = Laptop()\n",
      "\n",
      "#lappy.playGame()\n",
      "#lappy.playVideo()\n",
      "\n",
      "#print(lappy.resolution)\n",
      "\n",
      "class Account:\n",
      "\n",
      "    def __init__(self, name, acc_no, branch, balance):\n",
      "\n",
      "        self.holder_name = name\n",
      "        self.acc_no = acc_no\n",
      "        self.branch = branch\n",
      "        self.balance = balance\n",
      "\n",
      "    def debit(self, amt):\n",
      "        self.balance -= amt\n",
      "        print(f\"{amt} debited from {self.holder_name}'s account\")\n",
      "\n",
      "\n",
      "acc1 = Account(\"Mr. Neo Anderson\", 123456789, 'hazratganj', 2000)\n",
      "acc2 = Account(\"Mrs. Neo Anderson\", 987654321, 'hazratganj', 5000)\n",
      "\n",
      "acc1.debit(1500)\n",
      "acc2.debit(2300)\n",
      "\n",
      "print(acc1.balance)\n",
      "print(acc2.balance)\n",
      " \n",
      "\n",
      "\n"
     ]
    }
   ],
   "source": [
    "# absulute  path : with open ('c:/summer training/dp_pyds/classes.py')\n",
    "# relative path: \n",
    "# .. back one step \n",
    "with open('../classes.py') as f:\n",
    " print(f.read())\n"
   ]
  },
  {
   "cell_type": "code",
   "execution_count": 20,
   "metadata": {},
   "outputs": [],
   "source": [
    "jpg, png, webp = os.listdir('E:/images')"
   ]
  },
  {
   "cell_type": "code",
   "execution_count": 23,
   "metadata": {},
   "outputs": [
    {
     "data": {
      "text/plain": [
       "['a.jfif', 'b.jfif', 'c.jfif', 'd.jfif', 'e.jfif', 'nature.jpg']"
      ]
     },
     "execution_count": 23,
     "metadata": {},
     "output_type": "execute_result"
    }
   ],
   "source": [
    "os.listdir( os.path.join( 'E:/images', jpg ) )"
   ]
  },
  {
   "cell_type": "code",
   "execution_count": 24,
   "metadata": {},
   "outputs": [
    {
     "data": {
      "text/plain": [
       "['blue-ceramic-bowl-with-ice-.png',\n",
       " 'house.png',\n",
       " 'instagram-logo-.png',\n",
       " 'multicolored-balloons-.png',\n",
       " '—Pngtree—pink watercolor.png']"
      ]
     },
     "execution_count": 24,
     "metadata": {},
     "output_type": "execute_result"
    }
   ],
   "source": [
    "os.listdir( os.path.join( 'E:/images',  png ) )"
   ]
  },
  {
   "cell_type": "code",
   "execution_count": 73,
   "metadata": {},
   "outputs": [
    {
     "data": {
      "text/plain": [
       "['1.sm.jpg', '3.sm.jpg', '5.sm.jpg', 'img_59b89568ec308.jpg']"
      ]
     },
     "execution_count": 73,
     "metadata": {},
     "output_type": "execute_result"
    }
   ],
   "source": [
    "os.listdir( os.path.join( 'E:/images', webp ) )"
   ]
  },
  {
   "cell_type": "code",
   "execution_count": 79,
   "metadata": {},
   "outputs": [],
   "source": [
    "for f in os.listdir('E:/images'):\n",
    "    \n",
    "    # if os.path.isfile('d:/Summer Training/'+f):\n",
    " if os.path.isdir('E:/images'+f):\n",
    "     print(f)"
   ]
  },
  {
   "cell_type": "code",
   "execution_count": 81,
   "metadata": {},
   "outputs": [],
   "source": [
    "from PIL import Image"
   ]
  }
 ],
 "metadata": {
  "interpreter": {
   "hash": "5334c72a8ba9d1e109c86958d2c23a84ecbfd50c07315bc902cebb9991757b75"
  },
  "kernelspec": {
   "display_name": "Python 3.9.7 64-bit",
   "name": "python3"
  },
  "language_info": {
   "codemirror_mode": {
    "name": "ipython",
    "version": 3
   },
   "file_extension": ".py",
   "mimetype": "text/x-python",
   "name": "python",
   "nbconvert_exporter": "python",
   "pygments_lexer": "ipython3",
   "version": "3.9.7"
  },
  "orig_nbformat": 4
 },
 "nbformat": 4,
 "nbformat_minor": 2
}
