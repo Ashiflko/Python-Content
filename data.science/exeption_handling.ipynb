{
 "cells": [
  {
   "cell_type": "code",
   "execution_count": 1,
   "metadata": {},
   "outputs": [
    {
     "name": "stdout",
     "output_type": "stream",
     "text": [
      "file not found\n",
      "[Errno 2] No such file or directory: 'random.txt'\n",
      "further code......\n"
     ]
    }
   ],
   "source": [
    "try:\n",
    "    with open ('random.txt') as f:\n",
    "        print(f.read())\n",
    "except Exception as e:\n",
    "    print('file not found')\n",
    "    print(e)\n",
    "print('further code......')            "
   ]
  }
 ],
 "metadata": {
  "interpreter": {
   "hash": "5334c72a8ba9d1e109c86958d2c23a84ecbfd50c07315bc902cebb9991757b75"
  },
  "kernelspec": {
   "display_name": "Python 3.9.7 64-bit",
   "name": "python3"
  },
  "language_info": {
   "codemirror_mode": {
    "name": "ipython",
    "version": 3
   },
   "file_extension": ".py",
   "mimetype": "text/x-python",
   "name": "python",
   "nbconvert_exporter": "python",
   "pygments_lexer": "ipython3",
   "version": "3.9.7"
  },
  "orig_nbformat": 4
 },
 "nbformat": 4,
 "nbformat_minor": 2
}
